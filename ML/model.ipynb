{
 "cells": [
  {
   "cell_type": "code",
   "execution_count": 107,
   "metadata": {},
   "outputs": [],
   "source": [
    "import matplotlib.pyplot as plt\n",
    "import numpy as np\n",
    "from matplotlib import cm\n",
    "import librosa\n",
    "import csv\n",
    "import os"
   ]
  },
  {
   "cell_type": "code",
   "execution_count": 140,
   "metadata": {},
   "outputs": [],
   "source": [
    "def extractWavFeatures(soundFilesFolders, csvFileName):\n",
    "\n",
    "    header = 'filename chroma_stft rmse spectral_centroid spectral_bandwidth rolloff zero_crossing_rate'\n",
    "    for i in range(1, 21):\n",
    "        header += f' mfcc{i}'\n",
    "    header += ' label'\n",
    "    header = header.split()\n",
    "    print('CSV Header: ', header)\n",
    "    file = open(csvFileName, 'w', newline='')\n",
    "    #with file:\n",
    "    writer = csv.writer(file)\n",
    "    writer.writerow(header)\n",
    "    for folder in soundFilesFolders:\n",
    "        for filename in os.listdir(folder):\n",
    "            audio = f'{folder}/{filename}'\n",
    "            y, sr = librosa.load(audio, mono=True, duration=30)\n",
    "            # remove leading and trailing silence\n",
    "            y, index = librosa.effects.trim(y)\n",
    "            chroma_stft = librosa.feature.chroma_stft(y=y, sr=sr)\n",
    "            rmse = librosa.feature.rms(y=y)\n",
    "            spec_cent = librosa.feature.spectral_centroid(y=y, sr=sr)\n",
    "            spec_bw = librosa.feature.spectral_bandwidth(y=y, sr=sr)\n",
    "            rolloff = librosa.feature.spectral_rolloff(y=y, sr=sr)\n",
    "            zcr = librosa.feature.zero_crossing_rate(y)\n",
    "            mfcc = librosa.feature.mfcc(y=y, sr=sr,n_mfcc=20)\n",
    "            to_append = f'{filename.split()[0]} {np.mean(chroma_stft)} {np.mean(rmse)} {np.mean(spec_cent)} {np.mean(spec_bw)} {np.mean(rolloff)} {np.mean(zcr)}'\n",
    "            for e in mfcc:\n",
    "                to_append += f' {np.mean(e)}'\n",
    "\n",
    "            if 'Raouf' in filename:\n",
    "                to_append += f' {1}'\n",
    "            elif 'arwa' in filename:\n",
    "                to_append += f' {2}'\n",
    "            elif 'Gufran' in filename:\n",
    "                to_append += f' {3}'\n",
    "            elif 'Mazen' in filename:\n",
    "                to_append += f' {4}'\n",
    "            else:\n",
    "                to_append += f' {0}'\n",
    "            writer.writerow(to_append.split())\n",
    "    file.close()\n",
    "    print(\"End of extractWavFeatures\")\n"
   ]
  },
  {
   "cell_type": "code",
   "execution_count": 73,
   "metadata": {},
   "outputs": [],
   "source": [
    "def extractWavFileFeatures2(file):\n",
    "    # print(\"The features of the files in the folder \"+soundFilesFolder+\" will be saved to \"+csvFileName)\n",
    "    header = 'filename'\n",
    "    for i in range(1, 21):\n",
    "        header += f' mfcc{i}'\n",
    "    header += ' label'\n",
    "    # header += ' word'\n",
    "    header = header.split()\n",
    "\n",
    "    \n",
    "    y, sr = librosa.load(file, mono=True, duration=30)\n",
    "    # remove leading and trailing silence\n",
    "    y, index = librosa.effects.trim(y)\n",
    "    mfcc = librosa.feature.mfcc(y=y, sr=sr)\n",
    "    to_append = f'{file.split()[0]} '\n",
    "    \n",
    "    for e in mfcc:\n",
    "        to_append += f' {np.mean(e)}'\n",
    "    if 'Raouf' in file:\n",
    "        to_append += f' {1}'\n",
    "    elif 'arwa' in file:\n",
    "        to_append += f' {2}'\n",
    "    elif 'Mazen' in file:\n",
    "        to_append += f' {3}'\n",
    "    else:\n",
    "        to_append += f' {0}'\n",
    "\n",
    "    # if 'open' in file:\n",
    "    #     to_append += f' {1}'\n",
    "    # else:\n",
    "    #     to_append += f' {0}'\n",
    "\n",
    "    return to_append\n"
   ]
  },
  {
   "cell_type": "code",
   "execution_count": 74,
   "metadata": {},
   "outputs": [],
   "source": [
    "def extractWavFeatures2(soundFilesFolders, csvFileName):\n",
    "    # print(\"The features of the files in the folder \"+soundFilesFolders+\" will be saved to \"+csvFileName)\n",
    "    header = 'filename'\n",
    "    for i in range(1, 21):\n",
    "        header += f' mfcc{i}'\n",
    "    header += ' label'\n",
    "    # header += ' word'\n",
    "    header = header.split()\n",
    "    print('CSV Header: ', header)\n",
    "    file = open(csvFileName, 'w', newline='')\n",
    "    #with file:\n",
    "    writer = csv.writer(file)\n",
    "    writer.writerow(header)\n",
    "    for soundFilesFolder in soundFilesFolders:\n",
    "        for filename in os.listdir(soundFilesFolder):\n",
    "            number = f'{soundFilesFolder}/{filename}'\n",
    "            to_append = extractWavFileFeatures2(number)\n",
    "            writer.writerow(to_append.split())\n",
    "    file.close()\n",
    "    print(\"End of extractWavFeatures\")\n"
   ]
  },
  {
   "cell_type": "code",
   "execution_count": 114,
   "metadata": {},
   "outputs": [],
   "source": [
    "def extractWavFeatures(soundFilesFolders, csvFileName):\n",
    "    # print(\"The features of the files in the folder \"+soundFilesFolders+\" will be saved to \"+csvFileName)\n",
    "    header = 'filename mfcc contrast tonnetz chroma'\n",
    "    header += ' label'\n",
    "    # header += ' word'\n",
    "    header = header.split()\n",
    "    print('CSV Header: ', header)\n",
    "    file = open(csvFileName, 'w', newline='')\n",
    "    #with file:\n",
    "    writer = csv.writer(file)\n",
    "    writer.writerow(header)\n",
    "    for soundFilesFolder in soundFilesFolders:\n",
    "        for filename in os.listdir(soundFilesFolder):\n",
    "            number = f'{soundFilesFolder}/{filename}'\n",
    "            to_append = extractWavFileFeatures(number)\n",
    "            writer.writerow(to_append.split())\n",
    "    file.close()\n",
    "    print(\"End of extractWavFeatures\")\n"
   ]
  },
  {
   "cell_type": "code",
   "execution_count": 149,
   "metadata": {},
   "outputs": [],
   "source": [
    "x,sr = librosa.load('./audio/Mazen10.wav')"
   ]
  },
  {
   "cell_type": "code",
   "execution_count": 141,
   "metadata": {},
   "outputs": [
    {
     "name": "stdout",
     "output_type": "stream",
     "text": [
      "CSV Header:  ['filename', 'chroma_stft', 'rmse', 'spectral_centroid', 'spectral_bandwidth', 'rolloff', 'zero_crossing_rate', 'mfcc1', 'mfcc2', 'mfcc3', 'mfcc4', 'mfcc5', 'mfcc6', 'mfcc7', 'mfcc8', 'mfcc9', 'mfcc10', 'mfcc11', 'mfcc12', 'mfcc13', 'mfcc14', 'mfcc15', 'mfcc16', 'mfcc17', 'mfcc18', 'mfcc19', 'mfcc20', 'label']\n",
      "End of extractWavFeatures\n"
     ]
    }
   ],
   "source": [
    "extractWavFeatures([\"./audio\",\"./others\",'./Gufran','./open_the_door_arwa','./arwa','./new_arwa','./new_gufran','./Records'],\"./res2.csv\")\n"
   ]
  },
  {
   "cell_type": "code",
   "execution_count": 4,
   "metadata": {},
   "outputs": [],
   "source": [
    "#Import Libraries\n",
    "from sklearn.model_selection import train_test_split\n",
    "from sklearn.svm import SVC\n",
    "import pandas as pd\n",
    "#----------------------------------------------------"
   ]
  },
  {
   "cell_type": "code",
   "execution_count": 142,
   "metadata": {},
   "outputs": [
    {
     "data": {
      "text/html": [
       "<div>\n",
       "<style scoped>\n",
       "    .dataframe tbody tr th:only-of-type {\n",
       "        vertical-align: middle;\n",
       "    }\n",
       "\n",
       "    .dataframe tbody tr th {\n",
       "        vertical-align: top;\n",
       "    }\n",
       "\n",
       "    .dataframe thead th {\n",
       "        text-align: right;\n",
       "    }\n",
       "</style>\n",
       "<table border=\"1\" class=\"dataframe\">\n",
       "  <thead>\n",
       "    <tr style=\"text-align: right;\">\n",
       "      <th></th>\n",
       "      <th>filename</th>\n",
       "      <th>chroma_stft</th>\n",
       "      <th>rmse</th>\n",
       "      <th>spectral_centroid</th>\n",
       "      <th>spectral_bandwidth</th>\n",
       "      <th>rolloff</th>\n",
       "      <th>zero_crossing_rate</th>\n",
       "      <th>mfcc1</th>\n",
       "      <th>mfcc2</th>\n",
       "      <th>mfcc3</th>\n",
       "      <th>...</th>\n",
       "      <th>mfcc12</th>\n",
       "      <th>mfcc13</th>\n",
       "      <th>mfcc14</th>\n",
       "      <th>mfcc15</th>\n",
       "      <th>mfcc16</th>\n",
       "      <th>mfcc17</th>\n",
       "      <th>mfcc18</th>\n",
       "      <th>mfcc19</th>\n",
       "      <th>mfcc20</th>\n",
       "      <th>label</th>\n",
       "    </tr>\n",
       "  </thead>\n",
       "  <tbody>\n",
       "    <tr>\n",
       "      <th>0</th>\n",
       "      <td>AhmedRaouf1.wav</td>\n",
       "      <td>0.354983</td>\n",
       "      <td>0.106645</td>\n",
       "      <td>1490.484054</td>\n",
       "      <td>1873.071713</td>\n",
       "      <td>3076.714729</td>\n",
       "      <td>0.075866</td>\n",
       "      <td>-220.604324</td>\n",
       "      <td>133.288071</td>\n",
       "      <td>-0.094280</td>\n",
       "      <td>...</td>\n",
       "      <td>5.144216</td>\n",
       "      <td>-9.467816</td>\n",
       "      <td>-1.123920</td>\n",
       "      <td>-1.613682</td>\n",
       "      <td>1.866649</td>\n",
       "      <td>-5.180605</td>\n",
       "      <td>-2.014963</td>\n",
       "      <td>-2.393886</td>\n",
       "      <td>-3.962596</td>\n",
       "      <td>1</td>\n",
       "    </tr>\n",
       "    <tr>\n",
       "      <th>1</th>\n",
       "      <td>Mazen10.wav</td>\n",
       "      <td>0.312367</td>\n",
       "      <td>0.031064</td>\n",
       "      <td>2399.954087</td>\n",
       "      <td>2177.620998</td>\n",
       "      <td>4462.409038</td>\n",
       "      <td>0.146595</td>\n",
       "      <td>-324.667053</td>\n",
       "      <td>86.795143</td>\n",
       "      <td>-24.736382</td>\n",
       "      <td>...</td>\n",
       "      <td>-3.656900</td>\n",
       "      <td>-19.351297</td>\n",
       "      <td>-1.316739</td>\n",
       "      <td>-3.720619</td>\n",
       "      <td>1.151456</td>\n",
       "      <td>-5.182358</td>\n",
       "      <td>0.998462</td>\n",
       "      <td>-13.922803</td>\n",
       "      <td>-9.540985</td>\n",
       "      <td>4</td>\n",
       "    </tr>\n",
       "    <tr>\n",
       "      <th>2</th>\n",
       "      <td>Mazen11.wav</td>\n",
       "      <td>0.292576</td>\n",
       "      <td>0.053634</td>\n",
       "      <td>2093.874372</td>\n",
       "      <td>2083.258182</td>\n",
       "      <td>4031.450240</td>\n",
       "      <td>0.107117</td>\n",
       "      <td>-289.474945</td>\n",
       "      <td>89.091446</td>\n",
       "      <td>-29.580902</td>\n",
       "      <td>...</td>\n",
       "      <td>-3.737195</td>\n",
       "      <td>-17.588448</td>\n",
       "      <td>-9.898966</td>\n",
       "      <td>-3.539722</td>\n",
       "      <td>-7.785157</td>\n",
       "      <td>-5.890427</td>\n",
       "      <td>2.718866</td>\n",
       "      <td>-10.021913</td>\n",
       "      <td>-3.372452</td>\n",
       "      <td>4</td>\n",
       "    </tr>\n",
       "    <tr>\n",
       "      <th>3</th>\n",
       "      <td>Mazen12.wav</td>\n",
       "      <td>0.289630</td>\n",
       "      <td>0.050656</td>\n",
       "      <td>1901.415846</td>\n",
       "      <td>1972.375908</td>\n",
       "      <td>3711.838666</td>\n",
       "      <td>0.101333</td>\n",
       "      <td>-318.389252</td>\n",
       "      <td>98.986542</td>\n",
       "      <td>-17.926510</td>\n",
       "      <td>...</td>\n",
       "      <td>4.792781</td>\n",
       "      <td>-13.071886</td>\n",
       "      <td>-14.257236</td>\n",
       "      <td>-2.998781</td>\n",
       "      <td>-8.021028</td>\n",
       "      <td>-8.939095</td>\n",
       "      <td>-0.049031</td>\n",
       "      <td>-10.609541</td>\n",
       "      <td>-8.364249</td>\n",
       "      <td>4</td>\n",
       "    </tr>\n",
       "    <tr>\n",
       "      <th>4</th>\n",
       "      <td>Mazen13.wav</td>\n",
       "      <td>0.295655</td>\n",
       "      <td>0.049311</td>\n",
       "      <td>2005.167682</td>\n",
       "      <td>2048.882398</td>\n",
       "      <td>3928.863056</td>\n",
       "      <td>0.105962</td>\n",
       "      <td>-289.164032</td>\n",
       "      <td>103.991791</td>\n",
       "      <td>-25.729134</td>\n",
       "      <td>...</td>\n",
       "      <td>0.973811</td>\n",
       "      <td>-15.396244</td>\n",
       "      <td>-3.104086</td>\n",
       "      <td>-3.142099</td>\n",
       "      <td>-7.417404</td>\n",
       "      <td>-4.811359</td>\n",
       "      <td>-0.434750</td>\n",
       "      <td>-12.697005</td>\n",
       "      <td>-3.815025</td>\n",
       "      <td>4</td>\n",
       "    </tr>\n",
       "  </tbody>\n",
       "</table>\n",
       "<p>5 rows × 28 columns</p>\n",
       "</div>"
      ],
      "text/plain": [
       "          filename  chroma_stft      rmse  spectral_centroid  \\\n",
       "0  AhmedRaouf1.wav     0.354983  0.106645        1490.484054   \n",
       "1      Mazen10.wav     0.312367  0.031064        2399.954087   \n",
       "2      Mazen11.wav     0.292576  0.053634        2093.874372   \n",
       "3      Mazen12.wav     0.289630  0.050656        1901.415846   \n",
       "4      Mazen13.wav     0.295655  0.049311        2005.167682   \n",
       "\n",
       "   spectral_bandwidth      rolloff  zero_crossing_rate       mfcc1  \\\n",
       "0         1873.071713  3076.714729            0.075866 -220.604324   \n",
       "1         2177.620998  4462.409038            0.146595 -324.667053   \n",
       "2         2083.258182  4031.450240            0.107117 -289.474945   \n",
       "3         1972.375908  3711.838666            0.101333 -318.389252   \n",
       "4         2048.882398  3928.863056            0.105962 -289.164032   \n",
       "\n",
       "        mfcc2      mfcc3  ...    mfcc12     mfcc13     mfcc14    mfcc15  \\\n",
       "0  133.288071  -0.094280  ...  5.144216  -9.467816  -1.123920 -1.613682   \n",
       "1   86.795143 -24.736382  ... -3.656900 -19.351297  -1.316739 -3.720619   \n",
       "2   89.091446 -29.580902  ... -3.737195 -17.588448  -9.898966 -3.539722   \n",
       "3   98.986542 -17.926510  ...  4.792781 -13.071886 -14.257236 -2.998781   \n",
       "4  103.991791 -25.729134  ...  0.973811 -15.396244  -3.104086 -3.142099   \n",
       "\n",
       "     mfcc16    mfcc17    mfcc18     mfcc19    mfcc20  label  \n",
       "0  1.866649 -5.180605 -2.014963  -2.393886 -3.962596      1  \n",
       "1  1.151456 -5.182358  0.998462 -13.922803 -9.540985      4  \n",
       "2 -7.785157 -5.890427  2.718866 -10.021913 -3.372452      4  \n",
       "3 -8.021028 -8.939095 -0.049031 -10.609541 -8.364249      4  \n",
       "4 -7.417404 -4.811359 -0.434750 -12.697005 -3.815025      4  \n",
       "\n",
       "[5 rows x 28 columns]"
      ]
     },
     "execution_count": 142,
     "metadata": {},
     "output_type": "execute_result"
    }
   ],
   "source": [
    "df = pd.read_csv(\"./res2.csv\")\n",
    "df.head()"
   ]
  },
  {
   "cell_type": "code",
   "execution_count": 143,
   "metadata": {},
   "outputs": [],
   "source": [
    "X = df.drop(['filename','label'], axis='columns')\n",
    "y = df.label\n"
   ]
  },
  {
   "cell_type": "code",
   "execution_count": 144,
   "metadata": {},
   "outputs": [
    {
     "name": "stdout",
     "output_type": "stream",
     "text": [
      "(508, 26)\n",
      "(218, 26)\n"
     ]
    }
   ],
   "source": [
    "X_train, X_test, y_train, y_test = train_test_split(X, y, test_size=0.3)\n",
    "\n",
    "print(X_train.shape)\n",
    "print(X_test.shape)\n"
   ]
  },
  {
   "cell_type": "code",
   "execution_count": 104,
   "metadata": {},
   "outputs": [
    {
     "name": "stdout",
     "output_type": "stream",
     "text": [
      "tree Train Score is :  0.9771428571428571\n",
      "tree Test Score  is :  0.8157894736842105\n"
     ]
    }
   ],
   "source": [
    "from sklearn.tree import DecisionTreeClassifier\n",
    "\n",
    "# scaler=StandardScaler()\n",
    "# X=scaler.fit_transform(X)\n",
    "\n",
    "tree_object = DecisionTreeClassifier(criterion='entropy',max_depth=5) \n",
    "\n",
    "tree_object.fit(X_train, y_train)\n",
    "\n",
    "print('tree Train Score is : ' , tree_object.score(X_train, y_train))\n",
    "print('tree Test Score  is : ' , tree_object.score(X_test, y_test))"
   ]
  },
  {
   "cell_type": "code",
   "execution_count": 106,
   "metadata": {},
   "outputs": [
    {
     "data": {
      "text/plain": [
       "['D:/SBME/DSP_TASK_3/tree_class.joblib']"
      ]
     },
     "execution_count": 106,
     "metadata": {},
     "output_type": "execute_result"
    }
   ],
   "source": [
    "jb.dump(tree_object,'D:/SBME/DSP_TASK_3/tree_class.joblib')"
   ]
  },
  {
   "cell_type": "code",
   "execution_count": 145,
   "metadata": {},
   "outputs": [
    {
     "name": "stdout",
     "output_type": "stream",
     "text": [
      "SVRModel Train Score is :  1.0\n",
      "SVRModel Test Score is  :  0.9587155963302753\n",
      "----------------------------------------------------\n"
     ]
    }
   ],
   "source": [
    "'''\n",
    "sklearn.svm.SVR(kernel=’rbf’, degree=3, gamma=’auto_deprecated’, coef0=0.0, tol=0.001,\n",
    "                C=1.0, epsilon=0.1, shrinking=True, cache_size=200, verbose=False,max_iter=-1)\n",
    "'''\n",
    "\n",
    "SVRModel = SVC(kernel='linear',decision_function_shape='ovo') # it also can be : linear, poly, rbf, sigmoid, precomputed\n",
    "SVRModel.fit(X_train.values, y_train.values)\n",
    "\n",
    "print('SVRModel Train Score is : ' , SVRModel.score(X_train.values, y_train.values))\n",
    "print('SVRModel Test Score is  : ' , SVRModel.score(X_test.values, y_test.values))\n",
    "print('----------------------------------------------------')"
   ]
  },
  {
   "cell_type": "code",
   "execution_count": 151,
   "metadata": {},
   "outputs": [
    {
     "data": {
      "text/plain": [
       "['0.2863740622997284',\n",
       " '0.043598681688308716',\n",
       " '1848.0268856097905',\n",
       " '2181.322920093525',\n",
       " '3640.140488568474',\n",
       " '0.07300522748161764',\n",
       " '-365.8979797363281',\n",
       " '97.29271697998047',\n",
       " '8.799321174621582',\n",
       " '13.266655921936035',\n",
       " '4.919149398803711',\n",
       " '-11.614155769348145',\n",
       " '-14.459248542785645',\n",
       " '-8.759827613830566',\n",
       " '-2.8745906352996826',\n",
       " '-11.664780616760254',\n",
       " '-20.673383712768555',\n",
       " '0.4794394075870514',\n",
       " '-18.301420211791992',\n",
       " '9.815990447998047',\n",
       " '1.842380404472351',\n",
       " '-9.974481582641602',\n",
       " '-3.5889358520507812',\n",
       " '4.798363208770752',\n",
       " '-11.249316215515137',\n",
       " '-0.7233051061630249']"
      ]
     },
     "execution_count": 151,
     "metadata": {},
     "output_type": "execute_result"
    }
   ],
   "source": [
    "def extractWavFeatures4(file):\n",
    "\n",
    "    header = 'filename chroma_stft rmse spectral_centroid spectral_bandwidth rolloff zero_crossing_rate'\n",
    "    for i in range(1, 21):\n",
    "        header += f' mfcc{i}'\n",
    "    header += ' label'\n",
    "    header = header.split()\n",
    "    #with file:\n",
    "\n",
    "\n",
    "    number = file\n",
    "    y, sr = librosa.load(number, mono=True, duration=30)\n",
    "    # remove leading and trailing silence\n",
    "    y, index = librosa.effects.trim(y)\n",
    "    chroma_stft = librosa.feature.chroma_stft(y=y, sr=sr)\n",
    "    rmse = librosa.feature.rms(y=y)\n",
    "    spec_cent = librosa.feature.spectral_centroid(y=y, sr=sr)\n",
    "    spec_bw = librosa.feature.spectral_bandwidth(y=y, sr=sr)\n",
    "    rolloff = librosa.feature.spectral_rolloff(y=y, sr=sr)\n",
    "    zcr = librosa.feature.zero_crossing_rate(y)\n",
    "    mfcc = librosa.feature.mfcc(y=y, sr=sr,n_mfcc=20)\n",
    "    to_append = f'{file.split()[0]} {np.mean(chroma_stft)} {np.mean(rmse)} {np.mean(spec_cent)} {np.mean(spec_bw)} {np.mean(rolloff)} {np.mean(zcr)}'\n",
    "    for e in mfcc:\n",
    "        to_append += f' {np.mean(e)}'\n",
    "\n",
    "    if 'Raouf' in file:\n",
    "        to_append += f' {1}'\n",
    "    elif 'arwa' in file:\n",
    "        to_append += f' {2}'\n",
    "    elif 'Gufran' in file:\n",
    "        to_append += f' {3}'\n",
    "    elif 'Mazen' in file:\n",
    "        to_append += f' {4}'\n",
    "    else:\n",
    "        to_append += f' {0}'\n",
    "    \n",
    "    return to_append\n",
    "df2 = extractWavFeatures4(\"./test/arwa open (2).wav\").split()[1:27]\n",
    "df2"
   ]
  },
  {
   "cell_type": "code",
   "execution_count": 137,
   "metadata": {},
   "outputs": [],
   "source": [
    "df_other = df[df.label==0]\n",
    "df_raouf = df[df.label==1]\n",
    "df_arwa = df[df.label==2]\n",
    "df_ghufran = df[df.label==3]"
   ]
  },
  {
   "cell_type": "code",
   "execution_count": 153,
   "metadata": {},
   "outputs": [
    {
     "data": {
      "text/plain": [
       "2"
      ]
     },
     "execution_count": 153,
     "metadata": {},
     "output_type": "execute_result"
    }
   ],
   "source": [
    "SVRModel.predict([df2])[0]"
   ]
  },
  {
   "cell_type": "code",
   "execution_count": 146,
   "metadata": {},
   "outputs": [
    {
     "data": {
      "text/plain": [
       "['D:/SBME/DSP_TASK_3/rec_person.joblib']"
      ]
     },
     "execution_count": 146,
     "metadata": {},
     "output_type": "execute_result"
    }
   ],
   "source": [
    "import joblib as jb\n",
    "\n",
    "jb.dump(SVRModel,'D:/SBME/DSP_TASK_3/rec_person.joblib')\n"
   ]
  },
  {
   "cell_type": "code",
   "execution_count": null,
   "metadata": {},
   "outputs": [],
   "source": []
  }
 ],
 "metadata": {
  "kernelspec": {
   "display_name": "Python 3.8.1 64-bit",
   "language": "python",
   "name": "python3"
  },
  "language_info": {
   "codemirror_mode": {
    "name": "ipython",
    "version": 3
   },
   "file_extension": ".py",
   "mimetype": "text/x-python",
   "name": "python",
   "nbconvert_exporter": "python",
   "pygments_lexer": "ipython3",
   "version": "3.8.1 (tags/v3.8.1:1b293b6, Dec 18 2019, 23:11:46) [MSC v.1916 64 bit (AMD64)]"
  },
  "orig_nbformat": 4,
  "vscode": {
   "interpreter": {
    "hash": "ccec89b7e0666a9cec2e13a7e8e1ed9e86faa836657450a203beb7cbd43e27c3"
   }
  }
 },
 "nbformat": 4,
 "nbformat_minor": 2
}
